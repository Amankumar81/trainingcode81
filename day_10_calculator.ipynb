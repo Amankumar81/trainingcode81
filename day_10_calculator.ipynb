{
 "cells": [
  {
   "cell_type": "code",
   "execution_count": 6,
   "metadata": {},
   "outputs": [
    {
     "name": "stdout",
     "output_type": "stream",
     "text": [
      "the sum is: 132\n"
     ]
    }
   ],
   "source": [
    "try:\n",
    "  num_1=int(input(\"enter the value\"))\n",
    "  ope=input(\"enter the operator\")\n",
    "  num_2=int(input(\"enter thew value\"))\n",
    "  if ope=='+':\n",
    "      print(\"the sum is:\",num_1+num_2)\n",
    "  elif ope=='-':\n",
    "      print(\"the substrate is:\",num_1-num_2)\n",
    "  elif ope=='*':\n",
    "           print(\"the multiply is:\",num_1*num_2)\n",
    "  elif ope=='/':         \n",
    "    print(\"the divide is:\",num_1/num_2)\n",
    "  else:\n",
    "       print(\"please enter the right operator\")  \n",
    "except Exception as e:\n",
    "    print(\"please enter the right value\")      "
   ]
  },
  {
   "cell_type": "code",
   "execution_count": 17,
   "metadata": {},
   "outputs": [
    {
     "name": "stdout",
     "output_type": "stream",
     "text": [
      "the sum is : 24\n"
     ]
    }
   ],
   "source": [
    "def sum(a,b):\n",
    " return a+b\n",
    "def sub(a,b):\n",
    " return a-b\n",
    "def mul(a,b):\n",
    " return a*b\n",
    "def div(a,b):\n",
    " return a/b\n",
    "a=int(input(\"enter the value\"))\n",
    "o=input(\"enter the operatort\")\n",
    "b=int(input(\"enter the vauls\"))\n",
    "if o=='+':\n",
    " c=sum(a,b)\n",
    " print(\"the sum is :\",c)\n",
    "elif o=='-':\n",
    " d=sub(a,b)\n",
    " print(\"the substrate is : \",d)\n",
    "elif o=='-':\n",
    " e=mul(a,b)\n",
    " print(\"the multiply is :\",e)\n",
    "elif o=='/':\n",
    " f=div(a,b)\n",
    " print(\"the divide is :\",f)\n",
    "else:\n",
    " print(\"enter the right value \") "
   ]
  },
  {
   "cell_type": "code",
   "execution_count": 14,
   "metadata": {},
   "outputs": [
    {
     "name": "stdout",
     "output_type": "stream",
     "text": [
      "AMNA UPADHYAY\n"
     ]
    }
   ],
   "source": [
    "STR_1=\"AMNA\"\n",
    "STR_2=\"UPADHYAY\"\n",
    "print(STR_1+\" \"+STR_2)"
   ]
  },
  {
   "cell_type": "code",
   "execution_count": 18,
   "metadata": {},
   "outputs": [
    {
     "name": "stdout",
     "output_type": "stream",
     "text": [
      "1\n",
      "2\n",
      "3\n",
      "4\n",
      "5\n",
      "6\n",
      "7\n"
     ]
    }
   ],
   "source": [
    "lst=[1,2,3,4,5, 6,  7]\n",
    "for i in lst:\n",
    "    print(i)"
   ]
  },
  {
   "cell_type": "code",
   "execution_count": 19,
   "metadata": {},
   "outputs": [
    {
     "name": "stdout",
     "output_type": "stream",
     "text": [
      "1\n",
      "2\n",
      "3\n",
      "4\n",
      "5\n",
      "6\n",
      "7\n",
      "8\n",
      "9\n"
     ]
    }
   ],
   "source": [
    "for i in range(1,10):\n",
    "    print(i)"
   ]
  },
  {
   "cell_type": "code",
   "execution_count": 29,
   "metadata": {},
   "outputs": [
    {
     "data": {
      "text/plain": [
       "array([[ 0,  1,  2,  3,  4],\n",
       "       [ 5,  6,  7,  8,  9],\n",
       "       [10, 11, 12, 13, 14],\n",
       "       [15, 16, 17, 18, 19],\n",
       "       [20, 21, 22, 23, 24],\n",
       "       [25, 26, 27, 28, 29],\n",
       "       [30, 31, 32, 33, 34],\n",
       "       [35, 36, 37, 38, 39],\n",
       "       [40, 41, 42, 43, 44],\n",
       "       [45, 46, 47, 48, 49],\n",
       "       [50, 51, 52, 53, 54],\n",
       "       [55, 56, 57, 58, 59]])"
      ]
     },
     "execution_count": 29,
     "metadata": {},
     "output_type": "execute_result"
    }
   ],
   "source": [
    "import numpy as np\n",
    "arr=np.arange(0,60).reshape(12,5)\n",
    "arr\n"
   ]
  },
  {
   "cell_type": "code",
   "execution_count": null,
   "metadata": {},
   "outputs": [],
   "source": []
  }
 ],
 "metadata": {
  "kernelspec": {
   "display_name": "Python 3",
   "language": "python",
   "name": "python3"
  },
  "language_info": {
   "codemirror_mode": {
    "name": "ipython",
    "version": 3
   },
   "file_extension": ".py",
   "mimetype": "text/x-python",
   "name": "python",
   "nbconvert_exporter": "python",
   "pygments_lexer": "ipython3",
   "version": "3.10.6"
  }
 },
 "nbformat": 4,
 "nbformat_minor": 2
}
