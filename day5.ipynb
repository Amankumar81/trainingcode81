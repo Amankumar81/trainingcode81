{
 "cells": [
  {
   "cell_type": "code",
   "execution_count": 4,
   "metadata": {},
   "outputs": [
    {
     "ename": "ValueError",
     "evalue": "invalid literal for int() with base 10: ''",
     "output_type": "error",
     "traceback": [
      "\u001b[1;31m---------------------------------------------------------------------------\u001b[0m",
      "\u001b[1;31mValueError\u001b[0m                                Traceback (most recent call last)",
      "\u001b[1;32mc:\\Users\\lab7\\Desktop\\trainingcode\\trainingcode81\\day5.ipynb Cell 1\u001b[0m line \u001b[0;36m1\n\u001b[0;32m      <a href='vscode-notebook-cell:/c%3A/Users/lab7/Desktop/trainingcode/trainingcode81/day5.ipynb#W0sZmlsZQ%3D%3D?line=0'>1</a>\u001b[0m \u001b[39m# a=10\u001b[39;00m\n\u001b[0;32m      <a href='vscode-notebook-cell:/c%3A/Users/lab7/Desktop/trainingcode/trainingcode81/day5.ipynb#W0sZmlsZQ%3D%3D?line=1'>2</a>\u001b[0m \u001b[39m# b=20\u001b[39;00m\n\u001b[0;32m      <a href='vscode-notebook-cell:/c%3A/Users/lab7/Desktop/trainingcode/trainingcode81/day5.ipynb#W0sZmlsZQ%3D%3D?line=2'>3</a>\u001b[0m \u001b[39m# if b>a\u001b[39;00m\n\u001b[1;32m   (...)\u001b[0m\n\u001b[0;32m      <a href='vscode-notebook-cell:/c%3A/Users/lab7/Desktop/trainingcode/trainingcode81/day5.ipynb#W0sZmlsZQ%3D%3D?line=6'>7</a>\u001b[0m \n\u001b[0;32m      <a href='vscode-notebook-cell:/c%3A/Users/lab7/Desktop/trainingcode/trainingcode81/day5.ipynb#W0sZmlsZQ%3D%3D?line=7'>8</a>\u001b[0m \u001b[39m# str=(\" it is ten\"+10)\u001b[39;00m\n\u001b[1;32m---> <a href='vscode-notebook-cell:/c%3A/Users/lab7/Desktop/trainingcode/trainingcode81/day5.ipynb#W0sZmlsZQ%3D%3D?line=9'>10</a>\u001b[0m n1\u001b[39m=\u001b[39m\u001b[39mint\u001b[39;49m(\u001b[39minput\u001b[39;49m(\u001b[39m\"\u001b[39;49m\u001b[39menter the value\u001b[39;49m\u001b[39m\"\u001b[39;49m))\n\u001b[0;32m     <a href='vscode-notebook-cell:/c%3A/Users/lab7/Desktop/trainingcode/trainingcode81/day5.ipynb#W0sZmlsZQ%3D%3D?line=10'>11</a>\u001b[0m n2\u001b[39m=\u001b[39m\u001b[39mint\u001b[39m(\u001b[39minput\u001b[39m(\u001b[39m\"\u001b[39m\u001b[39menter the value\u001b[39m\u001b[39m\"\u001b[39m))\n\u001b[0;32m     <a href='vscode-notebook-cell:/c%3A/Users/lab7/Desktop/trainingcode/trainingcode81/day5.ipynb#W0sZmlsZQ%3D%3D?line=12'>13</a>\u001b[0m \u001b[39m#try block\u001b[39;00m\n",
      "\u001b[1;31mValueError\u001b[0m: invalid literal for int() with base 10: ''"
     ]
    }
   ],
   "source": [
    "# a=10\n",
    "# b=20\n",
    "# if b>a\n",
    "#  print(\"b is greater \")\n",
    "# else\n",
    "#  print(\"a is greater \") \n",
    "\n",
    "# str=(\" it is ten\"+10)\n",
    "\n",
    "n1=int(input(\"enter the value\"))\n",
    "n2=int(input(\"enter the value\"))\n",
    "\n",
    "#try block\n",
    "\n",
    "try:\n",
    "    print(\"program is running\")\n",
    "    result=n1/n2\n",
    "    print(\"program is executed\")\n",
    "    print(\"result is \",result)\n",
    "\n",
    "# except block\n",
    "\n",
    "except Exception as e:\n",
    "    print(\"as get an error\")\n",
    "    print(e)\n",
    "\n",
    "# else \n",
    "    \n",
    "else:\n",
    "    print(\"no exception found\")   \n",
    "\n",
    "    \n",
    "finally:\n",
    "    print(\"hello world\")\n",
    "\n",
    "\n",
    "# str1=input(\"enter the value\")\n",
    "# str2=21\n",
    "    \n",
    "\n",
    "    "
   ]
  },
  {
   "cell_type": "code",
   "execution_count": null,
   "metadata": {},
   "outputs": [
    {
     "name": "stdout",
     "output_type": "stream",
     "text": [
      "mohit\n",
      "harsh\n",
      "ayush\n",
      "aman\n"
     ]
    }
   ],
   "source": [
    "# class aman:\n",
    "#     # aman class variable\n",
    "#     name=\"aman\"\n",
    "#     rollno=5\n",
    "#     age=20\n",
    "#     def display(self):  # self call itself\n",
    "#      print(self.name)\n",
    "#      print(self.rollno)\n",
    "#      print(self.age)    \n",
    "# s=aman()\n",
    "# print(s.name)\n",
    "# s.display()\n",
    "\n",
    "# # call name\n",
    "# s.name=\"mohit\"\n",
    "# print(s.name)\n",
    "# # make other object\n",
    "# m=aman()\n",
    "# print(s.name)\n",
    "# s.display()\n",
    "\n",
    "# inti function  construtor in opps use in object ko new property dene ke liye\n",
    "\n",
    "# class aman:\n",
    "#     name1=\"aman\"\n",
    "#     name2=\"mohit\"\n",
    "#     def __init__(self,name1,name2):\n",
    "#         self.aman_name1=name1\n",
    "#         self.aman_name2=name2\n",
    "#     def display(self):\n",
    "#         print(self.aman_name1)\n",
    "#         print(self.name2)\n",
    "# obj1=aman(name1=\"mohit\",name2=\"harsh\")\n",
    "# print(obj1.aman_name1)\n",
    "# print(obj1.aman_name2)\n",
    "\n",
    "# class aman:\n",
    "#     name1=\"aman\"\n",
    "#     name2=\"mohit\"\n",
    "#     def __init__(self,name1,name2):   # construtor and construtor variable called instance variable\n",
    "#         self.aman_name1=name1\n",
    "#         self.aman_name2=name2\n",
    "#     def display(self):\n",
    "#         print(self.aman_name1)\n",
    "#         print(self.name2)\n",
    "#                             # pass direct value without define  \n",
    "# obj1=aman(\"mohit\",\"harsh\")        \n",
    "# print(obj1.aman_name1)\n",
    "# print(obj1.aman_name2)\n",
    "\n",
    "\n",
    "class aman:\n",
    "    name1=\"aman\"\n",
    "    name2=\"mohit\"\n",
    "    def __init__(self,name1,name2): # construtor making\n",
    "        self.aman_name1=name1\n",
    "        self.aman_name2=name2\n",
    "    def display(self):\n",
    "        print(self.aman_name1)\n",
    "        print(self.name2)\n",
    "obj1=aman(name1=\"mohit\",name2=\"harsh\")\n",
    "print(obj1.aman_name1)\n",
    "print(obj1.aman_name2)\n",
    "\n",
    "obj2=aman(\"ayush\",\"amit\") # to pass different value make second object and pass arg\n",
    "print(obj2.aman_name1)\n",
    "\n",
    "print(aman.name1)\n",
    "\n",
    "\n",
    "        \n",
    "\n",
    "\n",
    "\n"
   ]
  },
  {
   "cell_type": "code",
   "execution_count": null,
   "metadata": {},
   "outputs": [
    {
     "name": "stdout",
     "output_type": "stream",
     "text": [
      "name of holder aman upadhyay  account no. 123456789\n",
      "ayush\n",
      "ayush\n",
      "bhiwadi\n",
      "canara bank\n",
      "123456789\n",
      "aman upadhyay\n",
      "ayush\n",
      "bhiwadi\n",
      "canara bank\n",
      "123456789\n",
      "\n",
      "account 2nd info \n",
      "aman upadhyay\n",
      "bhiwadi\n",
      "canara bank\n",
      "123456789\n"
     ]
    }
   ],
   "source": [
    "class Bank:\n",
    "     name=\"aman upadhyay\"\n",
    "     address=\"bhiwadi\"\n",
    "     bank_name=\"canara bank\"\n",
    "     account_no=123456789\n",
    "     def show_info(self):\n",
    "          print(self.name)\n",
    "          print(self.address)\n",
    "          print(self.bank_name)\n",
    "          print(self.account_no)\n",
    "account_1=Bank()\n",
    "print(\"name of holder\",account_1.name,\" account no.\",account_1.account_no)\n",
    "\n",
    "account_1.name=\"ayush\" # change name \n",
    "print(account_1.name)\n",
    "\n",
    "account_1.show_info() # print all info by object calling\n",
    "\n",
    "account_2=Bank()      # second object\n",
    "\n",
    "print(account_2.name) # call object second \n",
    "\n",
    "\n",
    "\n",
    "account_1.show_info()\n",
    "print()\n",
    "\n",
    "print(\"account 2nd info \")\n",
    "account_2.show_info()\n"
   ]
  },
  {
   "cell_type": "code",
   "execution_count": null,
   "metadata": {},
   "outputs": [
    {
     "name": "stdout",
     "output_type": "stream",
     "text": [
      "construtor is excuted\n",
      "67\n",
      "my father name is  mohan\n",
      "my father age is 67\n"
     ]
    }
   ],
   "source": [
    "# inheritance  \n",
    "#  we read single, multiple, multi level\n",
    "\n",
    "\n",
    "# single\n",
    "class father:\n",
    "    def __init__(self,name,age):\n",
    "        self.father_name=name\n",
    "        self.father_age=age\n",
    "        print(\"construtor is excuted\")\n",
    "    def display(self):\n",
    "        print(\"my father name is \",self.father_name)\n",
    "        print(\"my father age is\",self.father_age)\n",
    "\n",
    "class son(father):\n",
    "    def son_hii(self):\n",
    "        print(\"hii i am ram\")\n",
    "        print( \"i am 22 year old\")\n",
    "son_obj=son(\"mohan\",67) # call son and inheritance access father class arg\n",
    "print(son_obj.father_age) # call father age by \n",
    "son_obj.father_name # call father \n",
    "son_obj.display()"
   ]
  },
  {
   "cell_type": "code",
   "execution_count": null,
   "metadata": {},
   "outputs": [
    {
     "name": "stdout",
     "output_type": "stream",
     "text": [
      "bhiwadi\n",
      "your school name is sss\n",
      "your total student is  550\n",
      "your school address is bhiwadi\n"
     ]
    }
   ],
   "source": [
    "# practice inheritance\n",
    "class school:\n",
    "    def __init__(self,name,student,address):\n",
    "        self.school_name=name\n",
    "        self.total_student=student\n",
    "        self.school_address=address\n",
    "    def display(self):\n",
    "        print(\"your school name is\",self.school_name)\n",
    "        print(\"your total student is \",self.total_student)\n",
    "        print(\"your school address is\",self.school_address)\n",
    "class school2(school):\n",
    "    def sch(self):\n",
    "        print(\"hello students\")\n",
    "objects=school2(\"sss\",\"550\",\"bhiwadi\")\n",
    "print(objects.school_address) # print address by objects\n",
    "objects.display()             # print all aggrument of display function      \n",
    "    "
   ]
  },
  {
   "cell_type": "code",
   "execution_count": 3,
   "metadata": {},
   "outputs": [
    {
     "data": {
      "text/plain": [
       "[1, 2, 4, 5, 6, 8]"
      ]
     },
     "execution_count": 3,
     "metadata": {},
     "output_type": "execute_result"
    }
   ],
   "source": [
    "# make a list copy element from anothyer list but element not repeat\n",
    "\n",
    "def unique_lst(lst):\n",
    " x=[]\n",
    " for a in lst: \n",
    "    if a not in x:\n",
    "        x.append(a)\n",
    " return x    \n",
    "unique_lst([1,2,2,4,5,6,8,8])"
   ]
  },
  {
   "cell_type": "code",
   "execution_count": 18,
   "metadata": {},
   "outputs": [
    {
     "name": "stdout",
     "output_type": "stream",
     "text": [
      "\n"
     ]
    }
   ],
   "source": [
    "# sort a list question\n",
    "items=[ n for n in input().split(\"-\")]\n",
    "# items=[\"ayush\",\"aman\",\"harsh\"]\n",
    "items.sort()\n",
    "print(\"-\".join(items))\n"
   ]
  }
 ],
 "metadata": {
  "kernelspec": {
   "display_name": "Python 3",
   "language": "python",
   "name": "python3"
  },
  "language_info": {
   "codemirror_mode": {
    "name": "ipython",
    "version": 3
   },
   "file_extension": ".py",
   "mimetype": "text/x-python",
   "name": "python",
   "nbconvert_exporter": "python",
   "pygments_lexer": "ipython3",
   "version": "3.10.6"
  }
 },
 "nbformat": 4,
 "nbformat_minor": 2
}
