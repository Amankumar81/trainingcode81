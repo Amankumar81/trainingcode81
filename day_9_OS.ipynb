{
 "cells": [
  {
   "cell_type": "code",
   "execution_count": 19,
   "metadata": {},
   "outputs": [
    {
     "data": {
      "text/plain": [
       "'c:\\\\Users'"
      ]
     },
     "execution_count": 19,
     "metadata": {},
     "output_type": "execute_result"
    }
   ],
   "source": [
    "import os # it is bulit in vs code\n",
    "os.name # give name of operating system name\n",
    "os.getcwd() # give the path of the"
   ]
  },
  {
   "cell_type": "code",
   "execution_count": 28,
   "metadata": {},
   "outputs": [
    {
     "data": {
      "text/plain": [
       "'c:\\\\'"
      ]
     },
     "execution_count": 28,
     "metadata": {},
     "output_type": "execute_result"
    }
   ],
   "source": [
    "os.getcwd() # give the path of the os "
   ]
  },
  {
   "cell_type": "code",
   "execution_count": 42,
   "metadata": {},
   "outputs": [],
   "source": [
    "os.chdir(\"..\")   # change the diratory\n"
   ]
  },
  {
   "cell_type": "code",
   "execution_count": 43,
   "metadata": {},
   "outputs": [
    {
     "data": {
      "text/plain": [
       "'c:\\\\'"
      ]
     },
     "execution_count": 43,
     "metadata": {},
     "output_type": "execute_result"
    }
   ],
   "source": [
    "os.getcwd() # exit dirtatory path"
   ]
  },
  {
   "cell_type": "code",
   "execution_count": 35,
   "metadata": {},
   "outputs": [
    {
     "data": {
      "text/plain": [
       "['.git',\n",
       " 'aday2.py',\n",
       " 'amanday1.py',\n",
       " 'assignment2.py',\n",
       " 'day3.py',\n",
       " 'day4.py',\n",
       " 'day5.ipynb',\n",
       " 'day_6multiple_class.ipynb',\n",
       " 'day_7.py',\n",
       " 'day_7_file_handling.ipynb',\n",
       " 'day_7_receiver.py',\n",
       " 'day_9_numpy.ipynb',\n",
       " 'day_9_OS.ipynb',\n",
       " 'e-mail.py',\n",
       " 'file_1',\n",
       " 'file_1.txt',\n",
       " 'file_2.txt',\n",
       " 'file_handling.txt',\n",
       " 'README.md']"
      ]
     },
     "execution_count": 35,
     "metadata": {},
     "output_type": "execute_result"
    }
   ],
   "source": [
    "os.listdir('c:\\\\Users\\\\lab7\\\\Desktop\\\\trainingcode\\\\trainingcode81')  "
   ]
  },
  {
   "cell_type": "code",
   "execution_count": 30,
   "metadata": {},
   "outputs": [],
   "source": [
    "os.mkdir(\"c:\\\\aman\") # make a folder"
   ]
  },
  {
   "cell_type": "code",
   "execution_count": 33,
   "metadata": {},
   "outputs": [
    {
     "data": {
      "text/plain": [
       "['$Recycle.Bin',\n",
       " 'autoexec.bat',\n",
       " 'bootmgr',\n",
       " 'BOOTNXT',\n",
       " 'Config.Msi',\n",
       " 'config.sys',\n",
       " 'day1',\n",
       " 'Documents and Settings',\n",
       " 'fi_le_1',\n",
       " 'hiberfil.sys',\n",
       " 'liet',\n",
       " 'MSOCache',\n",
       " 'pagefile.sys',\n",
       " 'PerfLogs',\n",
       " 'Program Files',\n",
       " 'ProgramData',\n",
       " 'Recovery',\n",
       " 'swapfile.sys',\n",
       " 'System Volume Information',\n",
       " 'TurboC4',\n",
       " 'Users',\n",
       " 'Windows']"
      ]
     },
     "execution_count": 33,
     "metadata": {},
     "output_type": "execute_result"
    }
   ],
   "source": [
    "os.listdir()  # give about all dirratory"
   ]
  },
  {
   "cell_type": "code",
   "execution_count": 34,
   "metadata": {},
   "outputs": [
    {
     "ename": "OSError",
     "evalue": "[WinError 123] The filename, directory name, or volume label syntax is incorrect: 'c:\\\\Users\\\\lab7\\\\a\"aman\"\\\\Desktop\\\\trainingcode\\\\trainingcode81'",
     "output_type": "error",
     "traceback": [
      "\u001b[1;31m---------------------------------------------------------------------------\u001b[0m",
      "\u001b[1;31mOSError\u001b[0m                                   Traceback (most recent call last)",
      "\u001b[1;32mc:\\Users\\lab7\\Desktop\\trainingcode\\trainingcode81\\day_9_OS.ipynb Cell 8\u001b[0m line \u001b[0;36m1\n\u001b[1;32m----> <a href='vscode-notebook-cell:/c%3A/Users/lab7/Desktop/trainingcode/trainingcode81/day_9_OS.ipynb#X15sZmlsZQ%3D%3D?line=0'>1</a>\u001b[0m os\u001b[39m.\u001b[39;49mmkdir(\u001b[39m'\u001b[39;49m\u001b[39mc:\u001b[39;49m\u001b[39m\\\\\u001b[39;49;00m\u001b[39mUsers\u001b[39;49m\u001b[39m\\\\\u001b[39;49;00m\u001b[39mlab7\u001b[39;49m\u001b[39m\\\\\u001b[39;49;00m\u001b[39ma\u001b[39;49m\u001b[39m\"\u001b[39;49m\u001b[39maman\u001b[39;49m\u001b[39m\"\u001b[39;49m\u001b[39m\\\\\u001b[39;49;00m\u001b[39mDesktop\u001b[39;49m\u001b[39m\\\\\u001b[39;49;00m\u001b[39mtrainingcode\u001b[39;49m\u001b[39m\\\\\u001b[39;49;00m\u001b[39mtrainingcode81\u001b[39;49m\u001b[39m'\u001b[39;49m)\n",
      "\u001b[1;31mOSError\u001b[0m: [WinError 123] The filename, directory name, or volume label syntax is incorrect: 'c:\\\\Users\\\\lab7\\\\a\"aman\"\\\\Desktop\\\\trainingcode\\\\trainingcode81'"
     ]
    }
   ],
   "source": [
    "os.mkdir('c:\\\\Users\\\\lab7\\\\a\"aman\"\\\\Desktop\\\\trainingcode\\\\trainingcode81')  # not make a folder name in mid but yo solve this problem us mkkdirs"
   ]
  },
  {
   "cell_type": "code",
   "execution_count": 38,
   "metadata": {},
   "outputs": [],
   "source": [
    "os.makedirs(\"c:\\\\Users\\\\lab7\\\\Desktop\\\\aman\\\\trainingcode\\\\trainingcode81\")"
   ]
  },
  {
   "cell_type": "markdown",
   "metadata": {},
   "source": []
  },
  {
   "cell_type": "code",
   "execution_count": 39,
   "metadata": {},
   "outputs": [
    {
     "data": {
      "text/plain": [
       "['$Recycle.Bin',\n",
       " 'autoexec.bat',\n",
       " 'bootmgr',\n",
       " 'BOOTNXT',\n",
       " 'Config.Msi',\n",
       " 'config.sys',\n",
       " 'day1',\n",
       " 'Documents and Settings',\n",
       " 'fi_le_1',\n",
       " 'hiberfil.sys',\n",
       " 'liet',\n",
       " 'MSOCache',\n",
       " 'pagefile.sys',\n",
       " 'PerfLogs',\n",
       " 'Program Files',\n",
       " 'ProgramData',\n",
       " 'Recovery',\n",
       " 'swapfile.sys',\n",
       " 'System Volume Information',\n",
       " 'TurboC4',\n",
       " 'Users',\n",
       " 'Windows']"
      ]
     },
     "execution_count": 39,
     "metadata": {},
     "output_type": "execute_result"
    }
   ],
   "source": [
    "os.listdir()"
   ]
  },
  {
   "cell_type": "code",
   "execution_count": null,
   "metadata": {},
   "outputs": [],
   "source": []
  }
 ],
 "metadata": {
  "kernelspec": {
   "display_name": "Python 3",
   "language": "python",
   "name": "python3"
  },
  "language_info": {
   "codemirror_mode": {
    "name": "ipython",
    "version": 3
   },
   "file_extension": ".py",
   "mimetype": "text/x-python",
   "name": "python",
   "nbconvert_exporter": "python",
   "pygments_lexer": "ipython3",
   "version": "3.10.6"
  }
 },
 "nbformat": 4,
 "nbformat_minor": 2
}
