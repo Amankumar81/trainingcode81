{
 "cells": [
  {
   "cell_type": "markdown",
   "metadata": {},
   "source": [
    "# multi level inheritance\n",
    "* grand father to father to child"
   ]
  },
  {
   "cell_type": "code",
   "execution_count": 5,
   "metadata": {},
   "outputs": [
    {
     "name": "stdout",
     "output_type": "stream",
     "text": [
      "80\n",
      "aman\n"
     ]
    }
   ],
   "source": [
    "# multi  level inheritance \n",
    "class grandfather:\n",
    "    grandfather_name=\"bani singh\"\n",
    "    grandfather_age=80\n",
    "\n",
    "class father(grandfather):\n",
    "    father_name=\"jaiveer\"\n",
    "    father_age=40\n",
    "    \n",
    "class child(father):    \n",
    "    child_name=\"aman\"\n",
    "    child_age=19\n",
    "obj_1=child() \n",
    "print(obj_1.grandfather_age)  \n",
    "print(obj_1.child_name)\n"
   ]
  },
  {
   "cell_type": "markdown",
   "metadata": {},
   "source": [
    "#  multiple inheritance"
   ]
  },
  {
   "cell_type": "code",
   "execution_count": 7,
   "metadata": {},
   "outputs": [
    {
     "name": "stdout",
     "output_type": "stream",
     "text": [
      "aman\n"
     ]
    }
   ],
   "source": [
    "# multiple inheritance \n",
    "class grandfather:\n",
    "    grandfather_name=\"bani singh\"\n",
    "    grandfather_age=80\n",
    "\n",
    "class father():\n",
    "    father_name=\"jaiveer\"\n",
    "    father_age=40\n",
    "    \n",
    "class child(grandfather,father):    \n",
    "    child_name=\"aman\"\n",
    "    child_age=19\n",
    "obj_1=child() \n",
    "print(obj_1.child_name)  \n"
   ]
  },
  {
   "cell_type": "markdown",
   "metadata": {},
   "source": [
    "# Encapsulation\n",
    "* public method \n",
    "* private method\n",
    "* protected method"
   ]
  },
  {
   "cell_type": "markdown",
   "metadata": {},
   "source": [
    "### public"
   ]
  },
  {
   "cell_type": "code",
   "execution_count": 9,
   "metadata": {},
   "outputs": [
    {
     "name": "stdout",
     "output_type": "stream",
     "text": [
      "23cs005\n",
      "balveersir\n"
     ]
    }
   ],
   "source": [
    "class collage:\n",
    "    collage_name=\"LIET collage\"\n",
    "    pin_code=\"301018\"\n",
    "class teacher(collage):\n",
    "    hod_sir=\"dr.pratapsinghpatwal\"\n",
    "    math_sir=\"balveersir\"\n",
    "class students(teacher):\n",
    "    name=\"aman kamar\"\n",
    "    clg_id=\"23cs005\"\n",
    "    roll_no=\"23eldcs005\"\n",
    "obj_1=students()\n",
    "print(obj_1.clg_id)\n",
    "print(obj_1.math_sir)"
   ]
  },
  {
   "cell_type": "markdown",
   "metadata": {},
   "source": [
    "### private"
   ]
  },
  {
   "cell_type": "code",
   "execution_count": 10,
   "metadata": {},
   "outputs": [
    {
     "name": "stdout",
     "output_type": "stream",
     "text": [
      "23cs005\n",
      "balveersir\n"
     ]
    },
    {
     "ename": "AttributeError",
     "evalue": "'students' object has no attribute '__salary'",
     "output_type": "error",
     "traceback": [
      "\u001b[1;31m---------------------------------------------------------------------------\u001b[0m",
      "\u001b[1;31mAttributeError\u001b[0m                            Traceback (most recent call last)",
      "\u001b[1;32mc:\\Users\\lab7\\Desktop\\trainingcode\\trainingcode81\\multiple_class.ipynb Cell 9\u001b[0m line \u001b[0;36m1\n\u001b[0;32m     <a href='vscode-notebook-cell:/c%3A/Users/lab7/Desktop/trainingcode/trainingcode81/multiple_class.ipynb#X31sZmlsZQ%3D%3D?line=12'>13</a>\u001b[0m \u001b[39mprint\u001b[39m(obj_1\u001b[39m.\u001b[39mclg_id)\n\u001b[0;32m     <a href='vscode-notebook-cell:/c%3A/Users/lab7/Desktop/trainingcode/trainingcode81/multiple_class.ipynb#X31sZmlsZQ%3D%3D?line=13'>14</a>\u001b[0m \u001b[39mprint\u001b[39m(obj_1\u001b[39m.\u001b[39mmath_sir)\n\u001b[1;32m---> <a href='vscode-notebook-cell:/c%3A/Users/lab7/Desktop/trainingcode/trainingcode81/multiple_class.ipynb#X31sZmlsZQ%3D%3D?line=14'>15</a>\u001b[0m \u001b[39mprint\u001b[39m(obj_1\u001b[39m.\u001b[39;49m__salary)\n",
      "\u001b[1;31mAttributeError\u001b[0m: 'students' object has no attribute '__salary'"
     ]
    }
   ],
   "source": [
    "class collage:\n",
    "    collage_name=\"LIET collage\"  # it is public by default \n",
    "    pin_code=\"301018\"\n",
    "class teacher(collage):\n",
    "    hod_sir=\"dr.pratapsinghpatwal\"\n",
    "    math_sir=\"balveersir\"\n",
    "    __salary=\"500000\" # __  private variable we can not access that \n",
    "class students(teacher):\n",
    "    name=\"aman kamar\"\n",
    "    clg_id=\"23cs005\"\n",
    "    roll_no=\"23eldcs005\"\n",
    "obj_1=students()\n",
    "print(obj_1.clg_id)\n",
    "print(obj_1.math_sir)\n",
    "print(obj_1.__salary)"
   ]
  },
  {
   "cell_type": "code",
   "execution_count": 16,
   "metadata": {},
   "outputs": [
    {
     "name": "stdout",
     "output_type": "stream",
     "text": [
      "liet\n",
      "301018\n"
     ]
    },
    {
     "data": {
      "text/plain": [
       "'LIET collage'"
      ]
     },
     "execution_count": 16,
     "metadata": {},
     "output_type": "execute_result"
    }
   ],
   "source": [
    "# construtor with multiple level\n",
    "class collage:\n",
    "    collage_name=\"LIET collage\"\n",
    "    pin_code=\"301018\"\n",
    "    def __init__(self,collage_name,pin_code):\n",
    "        self.clg_name=collage_name\n",
    "        self.pincode=pin_code\n",
    "    def display(self):\n",
    "        print(self.clg_name)\n",
    "        print(self.pincode)    \n",
    "\n",
    "class teacher(collage):\n",
    "    hod_sir=\"dr.pratapsinghpatwal\"\n",
    "    math_sir=\"balveersir\"\n",
    "class students(teacher):\n",
    "    name=\"aman kamar\"\n",
    "    clg_id=\"23cs005\"\n",
    "    roll_no=\"23eldcs005\"\n",
    "obj_1=students(\"liet\",\"301018\")\n",
    "print(obj_1.clg_name)\n",
    "print(obj_1.pincode)\n",
    "obj_1.collage_name"
   ]
  },
  {
   "cell_type": "markdown",
   "metadata": {},
   "source": [
    "### protected\n"
   ]
  },
  {
   "cell_type": "code",
   "execution_count": 23,
   "metadata": {},
   "outputs": [
    {
     "name": "stdout",
     "output_type": "stream",
     "text": [
      "LIET collage\n",
      "balveersir\n"
     ]
    }
   ],
   "source": [
    "class collage:\n",
    "    _collage_name=\"LIET collage\"  # ( _ )protected variable \n",
    "    pin_code=\"301018\"\n",
    "class teacher(collage):\n",
    "    hod_sir=\"dr.pratapsinghpatwal\"\n",
    "    math_sir=\"balveersir\"\n",
    "class students(teacher):\n",
    "    name=\"aman kamar\"\n",
    "    clg_id=\"23cs005\"\n",
    "    roll_no=\"23eldcs005\"\n",
    "obj_1=students()\n",
    "print(obj_1._collage_name)\n",
    "print(obj_1.math_sir)\n"
   ]
  },
  {
   "cell_type": "markdown",
   "metadata": {},
   "source": [
    "# polymorphism"
   ]
  },
  {
   "cell_type": "code",
   "execution_count": 27,
   "metadata": {},
   "outputs": [
    {
     "ename": "IndentationError",
     "evalue": "expected an indented block after class definition on line 1 (1809347523.py, line 2)",
     "output_type": "error",
     "traceback": [
      "\u001b[1;36m  Cell \u001b[1;32mIn[27], line 2\u001b[1;36m\u001b[0m\n\u001b[1;33m    class circle:                              # a function can do multi work\u001b[0m\n\u001b[1;37m    ^\u001b[0m\n\u001b[1;31mIndentationError\u001b[0m\u001b[1;31m:\u001b[0m expected an indented block after class definition on line 1\n"
     ]
    }
   ],
   "source": [
    "# a function can do multi work "
   ]
  },
  {
   "cell_type": "markdown",
   "metadata": {},
   "source": [
    "# abstration"
   ]
  },
  {
   "cell_type": "markdown",
   "metadata": {},
   "source": []
  },
  {
   "cell_type": "code",
   "execution_count": null,
   "metadata": {},
   "outputs": [],
   "source": []
  }
 ],
 "metadata": {
  "kernelspec": {
   "display_name": "Python 3",
   "language": "python",
   "name": "python3"
  },
  "language_info": {
   "codemirror_mode": {
    "name": "ipython",
    "version": 3
   },
   "file_extension": ".py",
   "mimetype": "text/x-python",
   "name": "python",
   "nbconvert_exporter": "python",
   "pygments_lexer": "ipython3",
   "version": "3.10.6"
  }
 },
 "nbformat": 4,
 "nbformat_minor": 2
}
