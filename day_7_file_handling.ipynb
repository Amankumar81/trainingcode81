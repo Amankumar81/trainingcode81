{
 "cells": [
  {
   "cell_type": "code",
   "execution_count": 26,
   "metadata": {},
   "outputs": [
    {
     "name": "stdout",
     "output_type": "stream",
     "text": [
      "<built-in method read of _io.TextIOWrapper object at 0x012E2D48>\n"
     ]
    }
   ],
   "source": [
    "file=open(r\"C:\\Users\\lab7\\Desktop\\trainingcode\\trainingcode81\\file_handling.txt\")  \n",
    "print(file.read)"
   ]
  },
  {
   "cell_type": "markdown",
   "metadata": {},
   "source": [
    "# R method"
   ]
  },
  {
   "cell_type": "code",
   "execution_count": 27,
   "metadata": {},
   "outputs": [
    {
     "name": "stdout",
     "output_type": "stream",
     "text": [
      "hello india\n"
     ]
    }
   ],
   "source": [
    "f=open(\"file_handling.txt\",'r')\n",
    "print(f.read())\n"
   ]
  },
  {
   "cell_type": "code",
   "execution_count": 28,
   "metadata": {},
   "outputs": [
    {
     "name": "stdout",
     "output_type": "stream",
     "text": [
      "hello indi\n"
     ]
    }
   ],
   "source": [
    "f=open(\"file_handling.txt\",'r')    \n",
    "print(f.read(10))   # read file a lim iimited word\n"
   ]
  },
  {
   "cell_type": "code",
   "execution_count": 29,
   "metadata": {},
   "outputs": [
    {
     "name": "stdout",
     "output_type": "stream",
     "text": [
      "hello india\n",
      "\n"
     ]
    }
   ],
   "source": [
    "f=open(\"file_handling.txt\",'r')  \n",
    "print(f.readline())    # read a line \n",
    "print(f.readline())\n",
    "f.close()\n"
   ]
  },
  {
   "cell_type": "code",
   "execution_count": 44,
   "metadata": {},
   "outputs": [
    {
     "name": "stdout",
     "output_type": "stream",
     "text": [
      "hello india\n"
     ]
    }
   ],
   "source": [
    "f=open(\"file_handling.txt\",'r')\n",
    "for i in f:   # read by for loop \n",
    " print(i)\n",
    "f.close()    \n"
   ]
  },
  {
   "cell_type": "markdown",
   "metadata": {},
   "source": [
    "# W mode"
   ]
  },
  {
   "cell_type": "code",
   "execution_count": 43,
   "metadata": {},
   "outputs": [
    {
     "name": "stdout",
     "output_type": "stream",
     "text": [
      "helo\n"
     ]
    }
   ],
   "source": [
    "o=open(\"file_1\",'w')\n",
    "o.write(\"helo\")\n",
    "o.close()\n",
    "# o.open(\"file_1\",'r')\n",
    "# print(o.read())\n",
    "o = open(\"file_1\",'r')\n",
    "print(o.read())"
   ]
  },
  {
   "cell_type": "code",
   "execution_count": 13,
   "metadata": {},
   "outputs": [
    {
     "name": "stdout",
     "output_type": "stream",
     "text": [
      "hello amanhellohellohellohellohello\n"
     ]
    }
   ],
   "source": [
    "f=open(\"file_1.txt\",'w')\n",
    "f.write(\"hello aman\")\n",
    "f.close()\n",
    "a=open(\"file_1\",'r')\n",
    "print(a.read())"
   ]
  },
  {
   "cell_type": "markdown",
   "metadata": {},
   "source": [
    "# a mode"
   ]
  },
  {
   "cell_type": "code",
   "execution_count": 12,
   "metadata": {},
   "outputs": [],
   "source": [
    "with open(\"file_1\",'a') as file:\n",
    "    file.write(\"hello\")\n",
    "file.close()  \n",
    "\n",
    "        \n"
   ]
  },
  {
   "cell_type": "markdown",
   "metadata": {},
   "source": []
  },
  {
   "cell_type": "code",
   "execution_count": 15,
   "metadata": {},
   "outputs": [],
   "source": [
    "try:\n",
    " with open(\"file_2.txt\",'x') as file :   #  x create  for use\n",
    "    file.write(\"hello amna create file_2\")\n",
    " f.close()\n",
    " \n",
    "except Exception as e:\n",
    "  print(\"file not found\")\n",
    "\n"
   ]
  },
  {
   "cell_type": "code",
   "execution_count": 1,
   "metadata": {},
   "outputs": [],
   "source": [
    "import numpy as np"
   ]
  }
 ],
 "metadata": {
  "kernelspec": {
   "display_name": "Python 3",
   "language": "python",
   "name": "python3"
  },
  "language_info": {
   "codemirror_mode": {
    "name": "ipython",
    "version": 3
   },
   "file_extension": ".py",
   "mimetype": "text/x-python",
   "name": "python",
   "nbconvert_exporter": "python",
   "pygments_lexer": "ipython3",
   "version": "3.10.6"
  }
 },
 "nbformat": 4,
 "nbformat_minor": 2
}
